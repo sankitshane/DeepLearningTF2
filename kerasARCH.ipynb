{
  "nbformat": 4,
  "nbformat_minor": 0,
  "metadata": {
    "colab": {
      "name": "kerasARCH.ipynb",
      "provenance": [],
      "authorship_tag": "ABX9TyOTbwAy5P8iQCYfJ72GBLgb",
      "include_colab_link": true
    },
    "kernelspec": {
      "name": "python3",
      "display_name": "Python 3"
    }
  },
  "cells": [
    {
      "cell_type": "markdown",
      "metadata": {
        "id": "view-in-github",
        "colab_type": "text"
      },
      "source": [
        "<a href=\"https://colab.research.google.com/github/sankitshane/DeepLearningTF2/blob/master/kerasARCH.ipynb\" target=\"_parent\"><img src=\"https://colab.research.google.com/assets/colab-badge.svg\" alt=\"Open In Colab\"/></a>"
      ]
    },
    {
      "cell_type": "code",
      "metadata": {
        "id": "1xnh4ZtbSwTl",
        "colab_type": "code",
        "colab": {}
      },
      "source": [
        "from keras import initializers, layers\n",
        "from keras.models import Sequential, Model\n",
        "from keras.layers import (\n",
        "    Dropout,\n",
        "    Input,\n",
        "    AveragePooling2D,\n",
        "    GlobalAveragePooling2D,\n",
        "    MaxPool2D\n",
        ")\n",
        "from keras.layers.convolutional import (\n",
        "    Conv2D,\n",
        "    MaxPooling2D,\n",
        "    ZeroPadding2D\n",
        ")\n",
        "from keras.layers.core import (\n",
        "    Activation,\n",
        "    Flatten,\n",
        "    Dense\n",
        ")\n",
        "from keras.layers.merge import (\n",
        "    concatenate,\n",
        "    add\n",
        ")\n",
        "from keras import backend as K\n",
        "from keras.layers.normalization import BatchNormalization\n",
        "from keras.regularizers import l2\n",
        "from keras.layers.pooling import GlobalMaxPooling2D"
      ],
      "execution_count": 0,
      "outputs": []
    },
    {
      "cell_type": "code",
      "metadata": {
        "id": "pxvYgtYYUnN5",
        "colab_type": "code",
        "colab": {}
      },
      "source": [
        ""
      ],
      "execution_count": 0,
      "outputs": []
    }
  ]
}