{
  "nbformat": 4,
  "nbformat_minor": 0,
  "metadata": {
    "colab": {
      "name": "kerasARCH.ipynb",
      "provenance": [],
      "collapsed_sections": [],
      "authorship_tag": "ABX9TyMdablDlF+x3Ubat7iJt3uG",
      "include_colab_link": true
    },
    "kernelspec": {
      "name": "python3",
      "display_name": "Python 3"
    }
  },
  "cells": [
    {
      "cell_type": "markdown",
      "metadata": {
        "id": "view-in-github",
        "colab_type": "text"
      },
      "source": [
        "<a href=\"https://colab.research.google.com/github/sankitshane/DeepLearningTF2/blob/master/kerasARCH.ipynb\" target=\"_parent\"><img src=\"https://colab.research.google.com/assets/colab-badge.svg\" alt=\"Open In Colab\"/></a>"
      ]
    },
    {
      "cell_type": "code",
      "metadata": {
        "id": "1xnh4ZtbSwTl",
        "colab_type": "code",
        "colab": {
          "base_uri": "https://localhost:8080/",
          "height": 34
        },
        "outputId": "3b79ca76-fb40-4307-ed5f-0b4a9e1d3733"
      },
      "source": [
        "from keras import initializers, layers\n",
        "from keras.models import Sequential, Model\n",
        "from keras.layers import (\n",
        "    Dropout,\n",
        "    Input,\n",
        "    AveragePooling2D,\n",
        "    GlobalAveragePooling2D,\n",
        "    MaxPool2D\n",
        ")\n",
        "from keras.layers.convolutional import (\n",
        "    Conv2D,\n",
        "    MaxPooling2D,\n",
        "    ZeroPadding2D\n",
        ")\n",
        "from keras.layers.core import (\n",
        "    Activation,\n",
        "    Flatten,\n",
        "    Dense\n",
        ")\n",
        "from keras.layers.merge import (\n",
        "    concatenate,\n",
        "    add\n",
        ")\n",
        "from keras import backend as K\n",
        "from keras.layers.normalization import BatchNormalization\n",
        "from keras.regularizers import l2\n",
        "from keras.layers.pooling import GlobalMaxPooling2D"
      ],
      "execution_count": 1,
      "outputs": [
        {
          "output_type": "stream",
          "text": [
            "Using TensorFlow backend.\n"
          ],
          "name": "stderr"
        }
      ]
    },
    {
      "cell_type": "code",
      "metadata": {
        "id": "pxvYgtYYUnN5",
        "colab_type": "code",
        "colab": {}
      },
      "source": [
        "class LetNet:\n",
        "  @staticmethod\n",
        "  def build(height, width, channel, classes, activation='relu', weightsPath=None):\n",
        "    model = Sequential()\n",
        "    inputShape = (height, width, channel)\n",
        "\n",
        "    if K.image_data_format() == 'channel_first':\n",
        "      inputShape = (channel, height, width)\n",
        "    \n",
        "    model.add(Conv2D(20, 5, padding='same', input_shape=inputShape))\n",
        "    model.add(Activation(activation))\n",
        "    model.add(MaxPooling2D(pool_size=(2, 2) ,strides=(2, 2)))\n",
        "\n",
        "    model.add(Conv2D(50, 5, padding='same'))\n",
        "    model.add(Activation(activation))\n",
        "    model.add(MaxPooling2D(pool_size=(2, 2), strides=(2, 2)))\n",
        "\n",
        "    model.add(Flatten())\n",
        "\n",
        "    model.add(Dense(500))\n",
        "    model.add(Activation(activation))\n",
        "\n",
        "    model.add(Dense(classes))\n",
        "    model.add(Activation('softmax'))\n",
        "\n",
        "    if weightsPath is not None:\n",
        "      model.load_weights = weightsPath\n",
        "\n",
        "    return model"
      ],
      "execution_count": 0,
      "outputs": []
    },
    {
      "cell_type": "code",
      "metadata": {
        "id": "0BGjBFtMB-Os",
        "colab_type": "code",
        "colab": {}
      },
      "source": [
        "def kerasModelEx(model, data, epochs, batchSize, lr, loss, metric):\n",
        "  weights = './'+model+\"_weights.hdf5\"\n",
        "  trainData, trainLabels, testData, testLabels = data\n",
        "\n",
        "  load_model = -1\n",
        "  opt = SGD(lr=lr)\n",
        "\n",
        "  shape = testData.shape[1:]\n",
        "  height_, width_, channel_ = shape[0], shape[1], shape[2]\n",
        "  classes_ = testLabels.shape[1]\n",
        "\n",
        "  builder = getattr(globals()[model],'build')\n",
        "  model = builder(height=height_, width=width_, channel=channel_,\n",
        "                  classes=classes_, \n",
        "                  weightsPath=weights if load_model > 0 else None)\n",
        "  model.compile(loss=loss, optimizer=opt, metrics=[metric])\n",
        "\n",
        "  if load_model < 0:\n",
        "    model.fit(trainData, trainLabels, batch_size=batchSize,\n",
        "              epochs=epochs, verbose=1)\n",
        "    (loss, accuracy) = model.evaluate(testData, testLabels,\n",
        "                                      batch_size=batchSize, verbose=1)\n",
        "    print(\"Accuracy as {}\".format(accuracy*100))\n",
        "    print(\"Loss as {}\".format(loss*100))\n",
        "  "
      ],
      "execution_count": 0,
      "outputs": []
    }
  ]
}