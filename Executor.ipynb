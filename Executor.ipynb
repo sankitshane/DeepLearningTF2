{
  "nbformat": 4,
  "nbformat_minor": 0,
  "metadata": {
    "colab": {
      "name": "Executor.ipynb",
      "provenance": [],
      "mount_file_id": "16xtHNYdLGINXNCw6GMgVqmrNwh7bEmK4",
      "authorship_tag": "ABX9TyOu/FdStntTBz/b8d6Kkkat",
      "include_colab_link": true
    },
    "kernelspec": {
      "name": "python3",
      "display_name": "Python 3"
    },
    "accelerator": "GPU"
  },
  "cells": [
    {
      "cell_type": "markdown",
      "metadata": {
        "id": "view-in-github",
        "colab_type": "text"
      },
      "source": [
        "<a href=\"https://colab.research.google.com/github/sankitshane/DeepLearningTF2/blob/master/Executor.ipynb\" target=\"_parent\"><img src=\"https://colab.research.google.com/assets/colab-badge.svg\" alt=\"Open In Colab\"/></a>"
      ]
    },
    {
      "cell_type": "code",
      "metadata": {
        "id": "ZVSob9eD2lXY",
        "colab_type": "code",
        "colab": {}
      },
      "source": [
        "from sklearn.model_selection import train_test_split\n",
        "from keras.optimizers import SGD\n",
        "from keras.utils import np_utils\n",
        "from keras import backend as K\n",
        "import tensorflow as tf\n",
        "import cv2\n",
        "import numpy as np\n",
        "!pip install mnist\n",
        "import mnist\n",
        "%matplotlib inline\n",
        "import matplotlib.pyplot as plt"
      ],
      "execution_count": 0,
      "outputs": []
    },
    {
      "cell_type": "code",
      "metadata": {
        "id": "dkSBRTmbK2ux",
        "colab_type": "code",
        "colab": {}
      },
      "source": [
        "from google.colab import drive\n",
        "drive.mount('/content/drive')"
      ],
      "execution_count": 0,
      "outputs": []
    },
    {
      "cell_type": "code",
      "metadata": {
        "id": "udFXX3t980zb",
        "colab_type": "code",
        "colab": {}
      },
      "source": [
        "train_Data, train_Labels = mnist.train_images(), mnist.train_labels()\n",
        "test_Data, test_Labels = mnist.test_images(), mnist.test_labels()"
      ],
      "execution_count": 0,
      "outputs": []
    },
    {
      "cell_type": "code",
      "metadata": {
        "id": "rY6ohuhuDgra",
        "colab_type": "code",
        "colab": {}
      },
      "source": [
        "if K.image_data_format() == \"channel_first\":\n",
        "  train_Data = train_Data.reshape((train_Data.shape[0], 1, 28, 28))\n",
        "  test_Data = test_Data.reshape((test_Data.shape[0], 1, 28, 28))\n",
        "else:\n",
        "  train_Data = train_Data.reshape((train_Data.shape[0], 28, 28, 1))\n",
        "  test_Data = test_Data.reshape((test_Data.shape[0], 28, 28, 1))"
      ],
      "execution_count": 0,
      "outputs": []
    },
    {
      "cell_type": "code",
      "metadata": {
        "id": "GhiSV4jtD5Zw",
        "colab_type": "code",
        "colab": {}
      },
      "source": [
        "train_Data = train_Data.astype('float32') / 255.0\n",
        "test_Data = test_Data.astype('float32') / 255.0"
      ],
      "execution_count": 0,
      "outputs": []
    },
    {
      "cell_type": "code",
      "metadata": {
        "id": "fl0xUQcNFvfE",
        "colab_type": "code",
        "colab": {}
      },
      "source": [
        "train_Labels = np_utils.to_categorical(train_Labels, 10)\n",
        "test_Labels = np_utils.to_categorical(test_Labels, 10)"
      ],
      "execution_count": 0,
      "outputs": []
    },
    {
      "cell_type": "code",
      "metadata": {
        "id": "A6dg4qqpGAJc",
        "colab_type": "code",
        "colab": {}
      },
      "source": [
        "from keras import initializers, layers\n",
        "from keras.models import Sequential, Model\n",
        "from keras.layers import (\n",
        "    Dropout,\n",
        "    Input,\n",
        "    AveragePooling2D,\n",
        "    GlobalAveragePooling2D,\n",
        "    MaxPool2D\n",
        ")\n",
        "from keras.layers.convolutional import (\n",
        "    Conv2D,\n",
        "    MaxPooling2D,\n",
        "    ZeroPadding2D\n",
        ")\n",
        "from keras.layers.core import (\n",
        "    Activation,\n",
        "    Flatten,\n",
        "    Dense\n",
        ")\n",
        "from keras.layers.merge import (\n",
        "    concatenate,\n",
        "    add\n",
        ")\n",
        "from keras import backend as K\n",
        "from keras.layers.normalization import BatchNormalization\n",
        "from keras.regularizers import l2\n",
        "from keras.layers.pooling import GlobalMaxPooling2D"
      ],
      "execution_count": 0,
      "outputs": []
    },
    {
      "cell_type": "code",
      "metadata": {
        "id": "8M7a3Od8IH-G",
        "colab_type": "code",
        "colab": {}
      },
      "source": [
        "class LetNet:\n",
        "  @staticmethod\n",
        "  def build(height, width, channel, classes, activation='relu', weightsPath=None):\n",
        "    model = Sequential()\n",
        "    inputShape = (height, width, channel)\n",
        "\n",
        "    if K.image_data_format() == 'channel_first':\n",
        "      inputShape = (channel, height, width)\n",
        "    \n",
        "    model.add(Conv2D(20, 5, padding='same', input_shape=inputShape))\n",
        "    model.add(Activation(activation))\n",
        "    model.add(MaxPooling2D(pool_size=(2, 2) ,strides=(2, 2)))\n",
        "\n",
        "    model.add(Conv2D(50, 5, padding='same'))\n",
        "    model.add(Activation(activation))\n",
        "    model.add(MaxPooling2D(pool_size=(2, 2), strides=(2, 2)))\n",
        "\n",
        "    model.add(Flatten())\n",
        "\n",
        "    model.add(Dense(500))\n",
        "    model.add(Activation(activation))\n",
        "\n",
        "    model.add(Dense(classes))\n",
        "    model.add(Activation('softmax'))\n",
        "\n",
        "    if weightsPath is not None:\n",
        "      model.load_weights = weightsPath\n",
        "\n",
        "    return model"
      ],
      "execution_count": 0,
      "outputs": []
    },
    {
      "cell_type": "code",
      "metadata": {
        "id": "26VwA0QvIKF6",
        "colab_type": "code",
        "colab": {}
      },
      "source": [
        "def kerasModelEx(model, data, epochs, batchSize, lr, loss, metric):\n",
        "  weights = './'+model+\"_weights.hdf5\"\n",
        "  trainData, trainLabels, testData, testLabels = data\n",
        "\n",
        "  load_model = -1\n",
        "  opt = SGD(lr=lr)\n",
        "\n",
        "  shape = testData.shape[1:]\n",
        "  height_, width_, channel_ = shape[0], shape[1], shape[2]\n",
        "  classes_ = testLabels.shape[1]\n",
        "\n",
        "  builder = getattr(globals()[model],'build')\n",
        "  model = builder(height=height_, width=width_, channel=channel_,\n",
        "                  classes=classes_, \n",
        "                  weightsPath=weights if load_model > 0 else None)\n",
        "  model.compile(loss=loss, optimizer=opt, metrics=[metric])\n",
        "\n",
        "  if load_model < 0:\n",
        "    model.fit(trainData, trainLabels, batch_size=batchSize,\n",
        "              epochs=epochs, verbose=1)\n",
        "    (loss, accuracy) = model.evaluate(testData, testLabels,\n",
        "                                      batch_size=batchSize, verbose=1)\n",
        "    print(\"Accuracy as {}\".format(accuracy*100))\n",
        "    print(\"Loss as {}\".format(loss*100))\n",
        "  "
      ],
      "execution_count": 0,
      "outputs": []
    },
    {
      "cell_type": "code",
      "metadata": {
        "id": "EFZh93gAINTy",
        "colab_type": "code",
        "colab": {}
      },
      "source": [
        "model = kerasModelEx(\"LetNet\", (train_Data, train_Labels, test_Data, test_Labels), 20, 128, 0.01, \"categorical_crossentropy\", \"accuracy\")"
      ],
      "execution_count": 0,
      "outputs": []
    }
  ]
}