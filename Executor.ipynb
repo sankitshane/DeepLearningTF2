{
  "nbformat": 4,
  "nbformat_minor": 0,
  "metadata": {
    "colab": {
      "name": "Executor.ipynb",
      "provenance": [],
      "authorship_tag": "ABX9TyNEnsRc1gEop7mBNyZqFWOE",
      "include_colab_link": true
    },
    "kernelspec": {
      "name": "python3",
      "display_name": "Python 3"
    }
  },
  "cells": [
    {
      "cell_type": "markdown",
      "metadata": {
        "id": "view-in-github",
        "colab_type": "text"
      },
      "source": [
        "<a href=\"https://colab.research.google.com/github/sankitshane/DeepLearningTF2/blob/master/Executor.ipynb\" target=\"_parent\"><img src=\"https://colab.research.google.com/assets/colab-badge.svg\" alt=\"Open In Colab\"/></a>"
      ]
    },
    {
      "cell_type": "code",
      "metadata": {
        "id": "ZVSob9eD2lXY",
        "colab_type": "code",
        "outputId": "f266b66b-e8fe-4809-f5fb-70064f522553",
        "colab": {
          "base_uri": "https://localhost:8080/",
          "height": 119
        }
      },
      "source": [
        "from sklearn.model_selection import train_test_split\n",
        "from keras.optimizers import SGD\n",
        "from keras.utils import np_utils\n",
        "from keras import backend as K\n",
        "import tensorflow as tf\n",
        "import cv2\n",
        "import numpy as np\n",
        "!pip install mnist\n",
        "import mnist\n",
        "%matplotlib inline\n",
        "import matplotlib.pyplot as plt"
      ],
      "execution_count": 1,
      "outputs": [
        {
          "output_type": "stream",
          "text": [
            "Using TensorFlow backend.\n"
          ],
          "name": "stderr"
        },
        {
          "output_type": "stream",
          "text": [
            "Collecting mnist\n",
            "  Downloading https://files.pythonhosted.org/packages/c6/c4/5db3bfe009f8d71f1d532bbadbd0ec203764bba3a469e4703a889db8e5e0/mnist-0.2.2-py2.py3-none-any.whl\n",
            "Requirement already satisfied: numpy in /usr/local/lib/python3.6/dist-packages (from mnist) (1.18.2)\n",
            "Installing collected packages: mnist\n",
            "Successfully installed mnist-0.2.2\n"
          ],
          "name": "stdout"
        }
      ]
    },
    {
      "cell_type": "code",
      "metadata": {
        "id": "udFXX3t980zb",
        "colab_type": "code",
        "colab": {}
      },
      "source": [
        "train_Data, train_Labels = mnist.train_images(), mnist.train_labels()\n",
        "test_Data, test_Labels = mnist.test_images(), mnist.test_labels()"
      ],
      "execution_count": 0,
      "outputs": []
    },
    {
      "cell_type": "code",
      "metadata": {
        "id": "rY6ohuhuDgra",
        "colab_type": "code",
        "colab": {}
      },
      "source": [
        "if K.image_data_format() == \"channel_first\":\n",
        "  train_Data = train_Data.reshape((train_Data.shape[0], 1, 28, 28))\n",
        "  test_Data = test_Data.reshape((test_Data.shape[0], 1, 28, 28))\n",
        "else:\n",
        "  train_Data = train_Data.reshape((train_Data.shape[0], 28, 28, 1))\n",
        "  test_Data = test_Data.reshape((test_Data.shape[0], 28, 28, 1))"
      ],
      "execution_count": 0,
      "outputs": []
    },
    {
      "cell_type": "code",
      "metadata": {
        "id": "GhiSV4jtD5Zw",
        "colab_type": "code",
        "colab": {}
      },
      "source": [
        "train_Data = train_Data.astype('float32') / 255.0\n",
        "test_Data = test_Data.astype('float32') / 255.0"
      ],
      "execution_count": 0,
      "outputs": []
    },
    {
      "cell_type": "code",
      "metadata": {
        "id": "fl0xUQcNFvfE",
        "colab_type": "code",
        "colab": {}
      },
      "source": [
        "train_Labels = np_utils.to_categorical(train_Labels, 10)\n",
        "test_Labels = np_utils.to_categorical(test_Labels, 10)"
      ],
      "execution_count": 0,
      "outputs": []
    },
    {
      "cell_type": "code",
      "metadata": {
        "id": "A6dg4qqpGAJc",
        "colab_type": "code",
        "colab": {}
      },
      "source": [
        ""
      ],
      "execution_count": 0,
      "outputs": []
    }
  ]
}